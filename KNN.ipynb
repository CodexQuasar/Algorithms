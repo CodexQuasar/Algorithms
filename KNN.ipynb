{
 "cells": [
  {
   "cell_type": "markdown",
   "id": "f1eaadac",
   "metadata": {},
   "source": [
    "An income tax department has the following data about individuals unique id, total income and tax paid. The department wants to know the ids of the k tax payers who have closest income to the median income of the population present in the dat. Write a linear time (even in the worst case) program for the above problem"
   ]
  },
  {
   "cell_type": "code",
   "execution_count": 8,
   "id": "84fc0213",
   "metadata": {},
   "outputs": [],
   "source": [
    "import numpy as np\n"
   ]
  },
  {
   "cell_type": "code",
   "execution_count": 9,
   "id": "56f30928",
   "metadata": {},
   "outputs": [],
   "source": [
    "data = []\n",
    "with open('data-assgn4.txt', 'r') as file:\n",
    "    for line in file:\n",
    "        if line.strip():\n",
    "            data.append([float(x) for x in line.strip().split()])\n",
    "\n",
    "data_array = np.array(data)\n",
    "income_array = data_array[:, 1]"
   ]
  },
  {
   "cell_type": "code",
   "execution_count": 10,
   "id": "91800906",
   "metadata": {},
   "outputs": [],
   "source": [
    "def partition(arr, pivot):\n",
    "    lows = [num for num in arr if num < pivot]\n",
    "    highs = [num for num in arr if num > pivot]\n",
    "    pivots = [num for num in arr if num == pivot]\n",
    "    return lows, pivots, highs\n",
    "\n",
    "def select(arr, k):   \n",
    "    \n",
    "    if len(arr) <= 5:\n",
    "        return sorted(arr)[k]    \n",
    "    \n",
    "    parts = [arr[i:i + 5] for i in range(0, len(arr), 5)]\n",
    "    medians = [sorted(part)[len(part) // 2] for part in parts]\n",
    "\n",
    "    pivot = select(medians, len(medians) // 2)\n",
    "    lows, pivots, highs = partition(arr, pivot)\n",
    "\n",
    "    if k < len(lows):\n",
    "        return select(lows, k)\n",
    "    elif k < len(lows) + len(pivots):\n",
    "        return pivot\n",
    "    else:\n",
    "        return select(highs, k - len(lows) - len(pivots))\n",
    "\n",
    "def k_closest_indices_to_median(arr, median, k):\n",
    "    distances = [(abs(val - median), index) for index, val in enumerate(arr)]\n",
    "    \n",
    "    dist_val = [d[0] for d in distances]\n",
    "    kth_dist = select(dist_val, k-1)\n",
    "    \n",
    "    closest_indices = [index for d, index in distances if d <= kth_dist]\n",
    "    \n",
    "    return closest_indices[:k]\n",
    "\n"
   ]
  },
  {
   "cell_type": "code",
   "execution_count": 12,
   "id": "cd26ac3d",
   "metadata": {},
   "outputs": [
    {
     "name": "stdout",
     "output_type": "stream",
     "text": [
      "2641821.0\n",
      "Payer ID: 5369301173.0  Income : 2641832.0 Tax Paid : 396274.8\n",
      "Payer ID: 3474227642.0  Income : 2641856.0 Tax Paid : 396278.4\n",
      "Payer ID: 5895672251.0  Income : 2642021.0 Tax Paid : 396303.15\n",
      "Payer ID: 5929530574.0  Income : 2641821.0 Tax Paid : 396273.15\n",
      "Payer ID: 5974486552.0  Income : 2641774.0 Tax Paid : 396266.1\n",
      "Payer ID: 7779324260.0  Income : 2641991.0 Tax Paid : 313654.05\n",
      "Payer ID: 6225359933.0  Income : 2641914.0 Tax Paid : 396287.1\n"
     ]
    }
   ],
   "source": [
    "median = select(income_array, len(income_array)//2)\n",
    "print(median)\n",
    "k = int(input(\"Enter number of closest neighbours required: \"))\n",
    "closest_index = k_closest_indices_to_median(income_array, median, k)\n",
    "for idx in closest_index:\n",
    "    print(f\"Payer ID: {data_array[idx][0]}  Income : {data_array[idx][1]} Tax Paid : {data_array[idx][2]}\")"
   ]
  }
 ],
 "metadata": {
  "kernelspec": {
   "display_name": "Python 3",
   "language": "python",
   "name": "python3"
  },
  "language_info": {
   "codemirror_mode": {
    "name": "ipython",
    "version": 3
   },
   "file_extension": ".py",
   "mimetype": "text/x-python",
   "name": "python",
   "nbconvert_exporter": "python",
   "pygments_lexer": "ipython3",
   "version": "3.13.1"
  }
 },
 "nbformat": 4,
 "nbformat_minor": 5
}
